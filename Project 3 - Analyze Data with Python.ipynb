{
 "cells": [
  {
   "cell_type": "code",
   "execution_count": 1,
   "id": "8aa526b3-036a-45aa-963d-291f17deccb1",
   "metadata": {},
   "outputs": [
    {
     "name": "stdout",
     "output_type": "stream",
     "text": [
      "Requirement already satisfied: seaborn in c:\\users\\ameer\\anaconda3\\lib\\site-packages (0.13.2)\n",
      "Requirement already satisfied: numpy!=1.24.0,>=1.20 in c:\\users\\ameer\\anaconda3\\lib\\site-packages (from seaborn) (1.26.4)\n",
      "Requirement already satisfied: pandas>=1.2 in c:\\users\\ameer\\anaconda3\\lib\\site-packages (from seaborn) (2.2.2)\n",
      "Requirement already satisfied: matplotlib!=3.6.1,>=3.4 in c:\\users\\ameer\\anaconda3\\lib\\site-packages (from seaborn) (3.9.2)\n",
      "Requirement already satisfied: contourpy>=1.0.1 in c:\\users\\ameer\\anaconda3\\lib\\site-packages (from matplotlib!=3.6.1,>=3.4->seaborn) (1.2.0)\n",
      "Requirement already satisfied: cycler>=0.10 in c:\\users\\ameer\\anaconda3\\lib\\site-packages (from matplotlib!=3.6.1,>=3.4->seaborn) (0.11.0)\n",
      "Requirement already satisfied: fonttools>=4.22.0 in c:\\users\\ameer\\anaconda3\\lib\\site-packages (from matplotlib!=3.6.1,>=3.4->seaborn) (4.51.0)\n",
      "Requirement already satisfied: kiwisolver>=1.3.1 in c:\\users\\ameer\\anaconda3\\lib\\site-packages (from matplotlib!=3.6.1,>=3.4->seaborn) (1.4.4)\n",
      "Requirement already satisfied: packaging>=20.0 in c:\\users\\ameer\\anaconda3\\lib\\site-packages (from matplotlib!=3.6.1,>=3.4->seaborn) (24.1)\n",
      "Requirement already satisfied: pillow>=8 in c:\\users\\ameer\\anaconda3\\lib\\site-packages (from matplotlib!=3.6.1,>=3.4->seaborn) (10.4.0)\n",
      "Requirement already satisfied: pyparsing>=2.3.1 in c:\\users\\ameer\\anaconda3\\lib\\site-packages (from matplotlib!=3.6.1,>=3.4->seaborn) (3.1.2)\n",
      "Requirement already satisfied: python-dateutil>=2.7 in c:\\users\\ameer\\anaconda3\\lib\\site-packages (from matplotlib!=3.6.1,>=3.4->seaborn) (2.9.0.post0)\n",
      "Requirement already satisfied: pytz>=2020.1 in c:\\users\\ameer\\anaconda3\\lib\\site-packages (from pandas>=1.2->seaborn) (2024.1)\n",
      "Requirement already satisfied: tzdata>=2022.7 in c:\\users\\ameer\\anaconda3\\lib\\site-packages (from pandas>=1.2->seaborn) (2023.3)\n",
      "Requirement already satisfied: six>=1.5 in c:\\users\\ameer\\anaconda3\\lib\\site-packages (from python-dateutil>=2.7->matplotlib!=3.6.1,>=3.4->seaborn) (1.16.0)\n",
      "Note: you may need to restart the kernel to use updated packages.\n"
     ]
    }
   ],
   "source": [
    "pip install seaborn"
   ]
  },
  {
   "cell_type": "markdown",
   "id": "822ad2c0-0caa-4d69-984f-8546a1b631b9",
   "metadata": {},
   "source": [
    "# The data analysis process"
   ]
  },
  {
   "cell_type": "code",
   "execution_count": 2,
   "id": "9b51101f-4ae9-4024-8c7c-a72ed83eacd2",
   "metadata": {},
   "outputs": [],
   "source": [
    "import pandas as pd\n",
    "import matplotlib.pyplot as plt\n",
    "import numpy as np\n",
    "import seaborn as sns\n",
    "from datetime import datetime\n",
    "import plotly.express as px"
   ]
  },
  {
   "cell_type": "code",
   "execution_count": 3,
   "id": "90debc41-bbfc-4d0e-8ca6-01ff7e67d1b4",
   "metadata": {},
   "outputs": [
    {
     "data": {
      "text/html": [
       "<div>\n",
       "<style scoped>\n",
       "    .dataframe tbody tr th:only-of-type {\n",
       "        vertical-align: middle;\n",
       "    }\n",
       "\n",
       "    .dataframe tbody tr th {\n",
       "        vertical-align: top;\n",
       "    }\n",
       "\n",
       "    .dataframe thead th {\n",
       "        text-align: right;\n",
       "    }\n",
       "</style>\n",
       "<table border=\"1\" class=\"dataframe\">\n",
       "  <thead>\n",
       "    <tr style=\"text-align: right;\">\n",
       "      <th></th>\n",
       "      <th>show_id</th>\n",
       "      <th>type</th>\n",
       "      <th>director</th>\n",
       "      <th>cast</th>\n",
       "      <th>country</th>\n",
       "      <th>date_added</th>\n",
       "      <th>release_year</th>\n",
       "      <th>rating</th>\n",
       "      <th>duration</th>\n",
       "      <th>listed_in</th>\n",
       "      <th>description</th>\n",
       "    </tr>\n",
       "    <tr>\n",
       "      <th>title</th>\n",
       "      <th></th>\n",
       "      <th></th>\n",
       "      <th></th>\n",
       "      <th></th>\n",
       "      <th></th>\n",
       "      <th></th>\n",
       "      <th></th>\n",
       "      <th></th>\n",
       "      <th></th>\n",
       "      <th></th>\n",
       "      <th></th>\n",
       "    </tr>\n",
       "  </thead>\n",
       "  <tbody>\n",
       "    <tr>\n",
       "      <th>Dick Johnson Is Dead</th>\n",
       "      <td>s1</td>\n",
       "      <td>Movie</td>\n",
       "      <td>Kirsten Johnson</td>\n",
       "      <td>NaN</td>\n",
       "      <td>United States</td>\n",
       "      <td>September 25, 2021</td>\n",
       "      <td>2020</td>\n",
       "      <td>PG-13</td>\n",
       "      <td>90 min</td>\n",
       "      <td>Documentaries</td>\n",
       "      <td>As her father nears the end of his life, filmm...</td>\n",
       "    </tr>\n",
       "    <tr>\n",
       "      <th>Blood &amp; Water</th>\n",
       "      <td>s2</td>\n",
       "      <td>TV Show</td>\n",
       "      <td>NaN</td>\n",
       "      <td>Ama Qamata, Khosi Ngema, Gail Mabalane, Thaban...</td>\n",
       "      <td>South Africa</td>\n",
       "      <td>September 24, 2021</td>\n",
       "      <td>2021</td>\n",
       "      <td>TV-MA</td>\n",
       "      <td>2 Seasons</td>\n",
       "      <td>International TV Shows, TV Dramas, TV Mysteries</td>\n",
       "      <td>After crossing paths at a party, a Cape Town t...</td>\n",
       "    </tr>\n",
       "    <tr>\n",
       "      <th>Ganglands</th>\n",
       "      <td>s3</td>\n",
       "      <td>TV Show</td>\n",
       "      <td>Julien Leclercq</td>\n",
       "      <td>Sami Bouajila, Tracy Gotoas, Samuel Jouy, Nabi...</td>\n",
       "      <td>NaN</td>\n",
       "      <td>September 24, 2021</td>\n",
       "      <td>2021</td>\n",
       "      <td>TV-MA</td>\n",
       "      <td>1 Season</td>\n",
       "      <td>Crime TV Shows, International TV Shows, TV Act...</td>\n",
       "      <td>To protect his family from a powerful drug lor...</td>\n",
       "    </tr>\n",
       "    <tr>\n",
       "      <th>Jailbirds New Orleans</th>\n",
       "      <td>s4</td>\n",
       "      <td>TV Show</td>\n",
       "      <td>NaN</td>\n",
       "      <td>NaN</td>\n",
       "      <td>NaN</td>\n",
       "      <td>September 24, 2021</td>\n",
       "      <td>2021</td>\n",
       "      <td>TV-MA</td>\n",
       "      <td>1 Season</td>\n",
       "      <td>Docuseries, Reality TV</td>\n",
       "      <td>Feuds, flirtations and toilet talk go down amo...</td>\n",
       "    </tr>\n",
       "    <tr>\n",
       "      <th>Kota Factory</th>\n",
       "      <td>s5</td>\n",
       "      <td>TV Show</td>\n",
       "      <td>NaN</td>\n",
       "      <td>Mayur More, Jitendra Kumar, Ranjan Raj, Alam K...</td>\n",
       "      <td>India</td>\n",
       "      <td>September 24, 2021</td>\n",
       "      <td>2021</td>\n",
       "      <td>TV-MA</td>\n",
       "      <td>2 Seasons</td>\n",
       "      <td>International TV Shows, Romantic TV Shows, TV ...</td>\n",
       "      <td>In a city of coaching centers known to train I...</td>\n",
       "    </tr>\n",
       "  </tbody>\n",
       "</table>\n",
       "</div>"
      ],
      "text/plain": [
       "                      show_id     type         director  \\\n",
       "title                                                     \n",
       "Dick Johnson Is Dead       s1    Movie  Kirsten Johnson   \n",
       "Blood & Water              s2  TV Show              NaN   \n",
       "Ganglands                  s3  TV Show  Julien Leclercq   \n",
       "Jailbirds New Orleans      s4  TV Show              NaN   \n",
       "Kota Factory               s5  TV Show              NaN   \n",
       "\n",
       "                                                                    cast  \\\n",
       "title                                                                      \n",
       "Dick Johnson Is Dead                                                 NaN   \n",
       "Blood & Water          Ama Qamata, Khosi Ngema, Gail Mabalane, Thaban...   \n",
       "Ganglands              Sami Bouajila, Tracy Gotoas, Samuel Jouy, Nabi...   \n",
       "Jailbirds New Orleans                                                NaN   \n",
       "Kota Factory           Mayur More, Jitendra Kumar, Ranjan Raj, Alam K...   \n",
       "\n",
       "                             country          date_added  release_year rating  \\\n",
       "title                                                                           \n",
       "Dick Johnson Is Dead   United States  September 25, 2021          2020  PG-13   \n",
       "Blood & Water           South Africa  September 24, 2021          2021  TV-MA   \n",
       "Ganglands                        NaN  September 24, 2021          2021  TV-MA   \n",
       "Jailbirds New Orleans            NaN  September 24, 2021          2021  TV-MA   \n",
       "Kota Factory                   India  September 24, 2021          2021  TV-MA   \n",
       "\n",
       "                        duration  \\\n",
       "title                              \n",
       "Dick Johnson Is Dead      90 min   \n",
       "Blood & Water          2 Seasons   \n",
       "Ganglands               1 Season   \n",
       "Jailbirds New Orleans   1 Season   \n",
       "Kota Factory           2 Seasons   \n",
       "\n",
       "                                                               listed_in  \\\n",
       "title                                                                      \n",
       "Dick Johnson Is Dead                                       Documentaries   \n",
       "Blood & Water            International TV Shows, TV Dramas, TV Mysteries   \n",
       "Ganglands              Crime TV Shows, International TV Shows, TV Act...   \n",
       "Jailbirds New Orleans                             Docuseries, Reality TV   \n",
       "Kota Factory           International TV Shows, Romantic TV Shows, TV ...   \n",
       "\n",
       "                                                             description  \n",
       "title                                                                     \n",
       "Dick Johnson Is Dead   As her father nears the end of his life, filmm...  \n",
       "Blood & Water          After crossing paths at a party, a Cape Town t...  \n",
       "Ganglands              To protect his family from a powerful drug lor...  \n",
       "Jailbirds New Orleans  Feuds, flirtations and toilet talk go down amo...  \n",
       "Kota Factory           In a city of coaching centers known to train I...  "
      ]
     },
     "execution_count": 3,
     "metadata": {},
     "output_type": "execute_result"
    }
   ],
   "source": [
    "df = pd.read_csv('netflix_titles.csv',index_col='title')\n",
    "df.head(5)"
   ]
  },
  {
   "cell_type": "markdown",
   "id": "b8720433-630a-4cf8-965d-f7c90b224030",
   "metadata": {},
   "source": [
    "# Data cleaning"
   ]
  },
  {
   "cell_type": "code",
   "execution_count": 4,
   "id": "dc1f1c03-13b6-4843-94b7-bbf9990cb423",
   "metadata": {},
   "outputs": [
    {
     "name": "stdout",
     "output_type": "stream",
     "text": [
      "director null rate: 29.91%\n",
      "cast null rate: 9.37%\n",
      "country null rate: 9.44%\n",
      "date_added null rate: 0.11%\n",
      "rating null rate: 0.05%\n",
      "duration null rate: 0.03%\n"
     ]
    }
   ],
   "source": [
    "for i in df.columns:\n",
    "    null_rate = df[i].isna().sum() / len(df) * 100\n",
    "    if null_rate > 0 :\n",
    "        print(\"{} null rate: {}%\".format(i,round(null_rate,2)))"
   ]
  },
  {
   "cell_type": "code",
   "execution_count": 5,
   "id": "dffc5175-c686-4517-a6c0-7482f76a836c",
   "metadata": {},
   "outputs": [],
   "source": [
    "#replace blank countries with the mode (most common) country\n",
    "df['country'] = df['country'].fillna(df['country'].mode()[0])\n",
    "\n",
    "#Replace NAN values with 'No Data' for director and cast\n",
    "df['cast'] = df['cast'].fillna('No Data')\n",
    "df['director'] = df['director'].fillna('No Data')"
   ]
  },
  {
   "cell_type": "code",
   "execution_count": 6,
   "id": "92e76174-b536-487d-8907-e689641505d7",
   "metadata": {},
   "outputs": [
    {
     "data": {
      "text/plain": [
       "show_id          0\n",
       "type             0\n",
       "director         0\n",
       "cast             0\n",
       "country          0\n",
       "date_added      10\n",
       "release_year     0\n",
       "rating           4\n",
       "duration         3\n",
       "listed_in        0\n",
       "description      0\n",
       "dtype: int64"
      ]
     },
     "execution_count": 6,
     "metadata": {},
     "output_type": "execute_result"
    }
   ],
   "source": [
    "df.isnull().sum()"
   ]
  },
  {
   "cell_type": "code",
   "execution_count": 7,
   "id": "fa27e1a6-5785-424b-a8ee-6ba93d6cdbc6",
   "metadata": {},
   "outputs": [],
   "source": [
    "df.dropna(inplace=True)"
   ]
  },
  {
   "cell_type": "code",
   "execution_count": 8,
   "id": "7440e2a0-7457-4e0c-8263-c2ab0a898093",
   "metadata": {},
   "outputs": [
    {
     "name": "stdout",
     "output_type": "stream",
     "text": [
      "<class 'pandas.core.frame.DataFrame'>\n",
      "Index: 8790 entries, Dick Johnson Is Dead to Zubaan\n",
      "Data columns (total 11 columns):\n",
      " #   Column        Non-Null Count  Dtype \n",
      "---  ------        --------------  ----- \n",
      " 0   show_id       8790 non-null   object\n",
      " 1   type          8790 non-null   object\n",
      " 2   director      8790 non-null   object\n",
      " 3   cast          8790 non-null   object\n",
      " 4   country       8790 non-null   object\n",
      " 5   date_added    8790 non-null   object\n",
      " 6   release_year  8790 non-null   int64 \n",
      " 7   rating        8790 non-null   object\n",
      " 8   duration      8790 non-null   object\n",
      " 9   listed_in     8790 non-null   object\n",
      " 10  description   8790 non-null   object\n",
      "dtypes: int64(1), object(10)\n",
      "memory usage: 824.1+ KB\n"
     ]
    }
   ],
   "source": [
    "df.info()"
   ]
  },
  {
   "cell_type": "code",
   "execution_count": 9,
   "id": "996f7d60-8a20-46ab-a7c6-38e61b8ce9fd",
   "metadata": {},
   "outputs": [
    {
     "data": {
      "text/plain": [
       "title\n",
       "Dick Johnson Is Dead     September 25, 2021\n",
       "Blood & Water            September 24, 2021\n",
       "Ganglands                September 24, 2021\n",
       "Jailbirds New Orleans    September 24, 2021\n",
       "Kota Factory             September 24, 2021\n",
       "                                ...        \n",
       "Zodiac                    November 20, 2019\n",
       "Zombie Dumb                    July 1, 2019\n",
       "Zombieland                 November 1, 2019\n",
       "Zoom                       January 11, 2020\n",
       "Zubaan                        March 2, 2019\n",
       "Name: date_added, Length: 8790, dtype: object"
      ]
     },
     "execution_count": 9,
     "metadata": {},
     "output_type": "execute_result"
    }
   ],
   "source": [
    "df[\"date_added\"]"
   ]
  },
  {
   "cell_type": "code",
   "execution_count": 10,
   "id": "f764240e-adf8-4bc1-8474-5e5ff2a375b4",
   "metadata": {},
   "outputs": [
    {
     "data": {
      "text/html": [
       "<div>\n",
       "<style scoped>\n",
       "    .dataframe tbody tr th:only-of-type {\n",
       "        vertical-align: middle;\n",
       "    }\n",
       "\n",
       "    .dataframe tbody tr th {\n",
       "        vertical-align: top;\n",
       "    }\n",
       "\n",
       "    .dataframe thead th {\n",
       "        text-align: right;\n",
       "    }\n",
       "</style>\n",
       "<table border=\"1\" class=\"dataframe\">\n",
       "  <thead>\n",
       "    <tr style=\"text-align: right;\">\n",
       "      <th></th>\n",
       "      <th>show_id</th>\n",
       "      <th>type</th>\n",
       "      <th>director</th>\n",
       "      <th>cast</th>\n",
       "      <th>country</th>\n",
       "      <th>date_added</th>\n",
       "      <th>release_year</th>\n",
       "      <th>rating</th>\n",
       "      <th>duration</th>\n",
       "      <th>listed_in</th>\n",
       "      <th>description</th>\n",
       "      <th>month_added</th>\n",
       "      <th>month_name_added</th>\n",
       "      <th>year_added</th>\n",
       "    </tr>\n",
       "    <tr>\n",
       "      <th>title</th>\n",
       "      <th></th>\n",
       "      <th></th>\n",
       "      <th></th>\n",
       "      <th></th>\n",
       "      <th></th>\n",
       "      <th></th>\n",
       "      <th></th>\n",
       "      <th></th>\n",
       "      <th></th>\n",
       "      <th></th>\n",
       "      <th></th>\n",
       "      <th></th>\n",
       "      <th></th>\n",
       "      <th></th>\n",
       "    </tr>\n",
       "  </thead>\n",
       "  <tbody>\n",
       "    <tr>\n",
       "      <th>Dick Johnson Is Dead</th>\n",
       "      <td>s1</td>\n",
       "      <td>Movie</td>\n",
       "      <td>Kirsten Johnson</td>\n",
       "      <td>No Data</td>\n",
       "      <td>United States</td>\n",
       "      <td>2021-09-25</td>\n",
       "      <td>2020</td>\n",
       "      <td>PG-13</td>\n",
       "      <td>90 min</td>\n",
       "      <td>Documentaries</td>\n",
       "      <td>As her father nears the end of his life, filmm...</td>\n",
       "      <td>9</td>\n",
       "      <td>September</td>\n",
       "      <td>2021</td>\n",
       "    </tr>\n",
       "    <tr>\n",
       "      <th>Blood &amp; Water</th>\n",
       "      <td>s2</td>\n",
       "      <td>TV Show</td>\n",
       "      <td>No Data</td>\n",
       "      <td>Ama Qamata, Khosi Ngema, Gail Mabalane, Thaban...</td>\n",
       "      <td>South Africa</td>\n",
       "      <td>2021-09-24</td>\n",
       "      <td>2021</td>\n",
       "      <td>TV-MA</td>\n",
       "      <td>2 Seasons</td>\n",
       "      <td>International TV Shows, TV Dramas, TV Mysteries</td>\n",
       "      <td>After crossing paths at a party, a Cape Town t...</td>\n",
       "      <td>9</td>\n",
       "      <td>September</td>\n",
       "      <td>2021</td>\n",
       "    </tr>\n",
       "    <tr>\n",
       "      <th>Ganglands</th>\n",
       "      <td>s3</td>\n",
       "      <td>TV Show</td>\n",
       "      <td>Julien Leclercq</td>\n",
       "      <td>Sami Bouajila, Tracy Gotoas, Samuel Jouy, Nabi...</td>\n",
       "      <td>United States</td>\n",
       "      <td>2021-09-24</td>\n",
       "      <td>2021</td>\n",
       "      <td>TV-MA</td>\n",
       "      <td>1 Season</td>\n",
       "      <td>Crime TV Shows, International TV Shows, TV Act...</td>\n",
       "      <td>To protect his family from a powerful drug lor...</td>\n",
       "      <td>9</td>\n",
       "      <td>September</td>\n",
       "      <td>2021</td>\n",
       "    </tr>\n",
       "  </tbody>\n",
       "</table>\n",
       "</div>"
      ],
      "text/plain": [
       "                     show_id     type         director  \\\n",
       "title                                                    \n",
       "Dick Johnson Is Dead      s1    Movie  Kirsten Johnson   \n",
       "Blood & Water             s2  TV Show          No Data   \n",
       "Ganglands                 s3  TV Show  Julien Leclercq   \n",
       "\n",
       "                                                                   cast  \\\n",
       "title                                                                     \n",
       "Dick Johnson Is Dead                                            No Data   \n",
       "Blood & Water         Ama Qamata, Khosi Ngema, Gail Mabalane, Thaban...   \n",
       "Ganglands             Sami Bouajila, Tracy Gotoas, Samuel Jouy, Nabi...   \n",
       "\n",
       "                            country date_added  release_year rating  \\\n",
       "title                                                                 \n",
       "Dick Johnson Is Dead  United States 2021-09-25          2020  PG-13   \n",
       "Blood & Water          South Africa 2021-09-24          2021  TV-MA   \n",
       "Ganglands             United States 2021-09-24          2021  TV-MA   \n",
       "\n",
       "                       duration  \\\n",
       "title                             \n",
       "Dick Johnson Is Dead     90 min   \n",
       "Blood & Water         2 Seasons   \n",
       "Ganglands              1 Season   \n",
       "\n",
       "                                                              listed_in  \\\n",
       "title                                                                     \n",
       "Dick Johnson Is Dead                                      Documentaries   \n",
       "Blood & Water           International TV Shows, TV Dramas, TV Mysteries   \n",
       "Ganglands             Crime TV Shows, International TV Shows, TV Act...   \n",
       "\n",
       "                                                            description  \\\n",
       "title                                                                     \n",
       "Dick Johnson Is Dead  As her father nears the end of his life, filmm...   \n",
       "Blood & Water         After crossing paths at a party, a Cape Town t...   \n",
       "Ganglands             To protect his family from a powerful drug lor...   \n",
       "\n",
       "                      month_added month_name_added  year_added  \n",
       "title                                                           \n",
       "Dick Johnson Is Dead            9        September        2021  \n",
       "Blood & Water                   9        September        2021  \n",
       "Ganglands                       9        September        2021  "
      ]
     },
     "execution_count": 10,
     "metadata": {},
     "output_type": "execute_result"
    }
   ],
   "source": [
    "#Converting date_added coloumn to datetime type and adding month, month_name and year columns\n",
    "df[\"date_added\"] = pd.to_datetime(df['date_added'].str.strip())\n",
    "\n",
    "df['month_added']=df['date_added'].dt.month\n",
    "df['month_name_added']=df['date_added'].dt.month_name()\n",
    "df['year_added'] = df['date_added'].dt.year\n",
    "df.head(3)"
   ]
  },
  {
   "cell_type": "code",
   "execution_count": 11,
   "id": "a1f917b2-16b2-49a4-b68e-e89b9a3cc5a4",
   "metadata": {},
   "outputs": [
    {
     "name": "stdout",
     "output_type": "stream",
     "text": [
      "<class 'pandas.core.frame.DataFrame'>\n",
      "Index: 8790 entries, Dick Johnson Is Dead to Zubaan\n",
      "Data columns (total 14 columns):\n",
      " #   Column            Non-Null Count  Dtype         \n",
      "---  ------            --------------  -----         \n",
      " 0   show_id           8790 non-null   object        \n",
      " 1   type              8790 non-null   object        \n",
      " 2   director          8790 non-null   object        \n",
      " 3   cast              8790 non-null   object        \n",
      " 4   country           8790 non-null   object        \n",
      " 5   date_added        8790 non-null   datetime64[ns]\n",
      " 6   release_year      8790 non-null   int64         \n",
      " 7   rating            8790 non-null   object        \n",
      " 8   duration          8790 non-null   object        \n",
      " 9   listed_in         8790 non-null   object        \n",
      " 10  description       8790 non-null   object        \n",
      " 11  month_added       8790 non-null   int32         \n",
      " 12  month_name_added  8790 non-null   object        \n",
      " 13  year_added        8790 non-null   int32         \n",
      "dtypes: datetime64[ns](1), int32(2), int64(1), object(10)\n",
      "memory usage: 1.2+ MB\n"
     ]
    }
   ],
   "source": [
    "df.info()"
   ]
  },
  {
   "cell_type": "markdown",
   "id": "0576c69d-4866-4f3d-936b-1c3aceed8d02",
   "metadata": {},
   "source": [
    "# Descriptive statistical analysis"
   ]
  },
  {
   "cell_type": "code",
   "execution_count": 12,
   "id": "9a83eee7-ba95-4e2f-b9c6-42f29f76a6ba",
   "metadata": {},
   "outputs": [],
   "source": [
    "# Separating movies from the Dataset\n",
    "movies = df[df['type'] == 'Movie'].copy()"
   ]
  },
  {
   "cell_type": "code",
   "execution_count": 13,
   "id": "41757e0d-348d-4c69-a20f-2a6f7ad3c1ea",
   "metadata": {},
   "outputs": [],
   "source": [
    "# Clean up and convert a duration column\n",
    "movies['duration_minutes'] = movies['duration'].str.extract('(\\\\d+)').astype(float)"
   ]
  },
  {
   "cell_type": "code",
   "execution_count": 14,
   "id": "0effe71f-1b48-43dd-9310-7c688fe086f1",
   "metadata": {},
   "outputs": [],
   "source": [
    "# Calculating summary statistics\n",
    "movie_stats = movies[ 'duration_minutes'].describe()"
   ]
  },
  {
   "cell_type": "code",
   "execution_count": 15,
   "id": "3c81c41c-789e-481d-85cf-72ece6ebe63f",
   "metadata": {},
   "outputs": [
    {
     "name": "stdout",
     "output_type": "stream",
     "text": [
      "🎬 DSA (Movies):\n",
      "\n",
      "count    6126.000000\n",
      "mean       99.584884\n",
      "std        28.283225\n",
      "min         3.000000\n",
      "25%        87.000000\n",
      "50%        98.000000\n",
      "75%       114.000000\n",
      "max       312.000000\n",
      "Name: duration_minutes, dtype: float64\n"
     ]
    }
   ],
   "source": [
    "# Printing results\n",
    "print(\"🎬 DSA (Movies):\\n\")\n",
    "print(movie_stats)"
   ]
  },
  {
   "cell_type": "markdown",
   "id": "30ec5fdf-e6cc-4e50-b782-b86558cc0eff",
   "metadata": {},
   "source": [
    "# Advanced analasis"
   ]
  },
  {
   "cell_type": "code",
   "execution_count": 16,
   "id": "1eb2ebfb-9d5e-4991-b6d6-65493bed7105",
   "metadata": {},
   "outputs": [
    {
     "name": "stdout",
     "output_type": "stream",
     "text": [
      "📊 Number of titles by type:\n",
      "type\n",
      "Movie      6126\n",
      "TV Show    2664\n",
      "dtype: int64\n",
      "\n",
      "----------------------------------------\n",
      "\n"
     ]
    }
   ],
   "source": [
    "# 1. Group by content type (Movie / TV Show)\n",
    "print(\"📊 Number of titles by type:\")\n",
    "print(df.groupby('type').size())\n",
    "print(\"\\n\" + \"-\"*40 + \"\\n\")"
   ]
  },
  {
   "cell_type": "code",
   "execution_count": 17,
   "id": "6d699b86-cde5-48ae-be0e-5bd5a05ff5b5",
   "metadata": {},
   "outputs": [
    {
     "name": "stdout",
     "output_type": "stream",
     "text": [
      "🌍 Top 10 countries by number of titles:\n",
      "country\n",
      "United States     3638\n",
      "India              972\n",
      "United Kingdom     418\n",
      "Japan              243\n",
      "South Korea        199\n",
      "Canada             181\n",
      "Spain              145\n",
      "France             124\n",
      "Mexico             110\n",
      "Egypt              106\n",
      "dtype: int64\n",
      "\n",
      "----------------------------------------\n",
      "\n"
     ]
    }
   ],
   "source": [
    "# 2. Group by country – Top 10 countries with the most titles\n",
    "print(\"🌍 Top 10 countries by number of titles:\")\n",
    "print(df.groupby('country').size().sort_values(ascending=False).head(10))\n",
    "print(\"\\n\" + \"-\"*40 + \"\\n\")"
   ]
  },
  {
   "cell_type": "code",
   "execution_count": 18,
   "id": "bb1333f1-edc0-48fd-bf94-d4a9b97d44ad",
   "metadata": {},
   "outputs": [
    {
     "name": "stdout",
     "output_type": "stream",
     "text": [
      "📅 Number of titles by release year:\n",
      "release_year\n",
      "2021     592\n",
      "2020     953\n",
      "2019    1030\n",
      "2018    1146\n",
      "2017    1030\n",
      "2016     901\n",
      "2015     555\n",
      "2014     352\n",
      "2013     286\n",
      "2012     236\n",
      "dtype: int64\n",
      "\n",
      "----------------------------------------\n",
      "\n"
     ]
    }
   ],
   "source": [
    "# 3. Group by release year – Most recent years\n",
    "print(\"📅 Number of titles by release year:\")\n",
    "print(df.groupby('release_year').size().sort_index(ascending=False).head(10))\n",
    "print(\"\\n\" + \"-\"*40 + \"\\n\")"
   ]
  },
  {
   "cell_type": "code",
   "execution_count": 19,
   "id": "046595db-01ee-488a-8e4f-93a659b6d3e6",
   "metadata": {},
   "outputs": [
    {
     "name": "stdout",
     "output_type": "stream",
     "text": [
      "🔞 Titles by age rating:\n",
      "rating\n",
      "TV-MA       3205\n",
      "TV-14       2157\n",
      "TV-PG        861\n",
      "R            799\n",
      "PG-13        490\n",
      "TV-Y7        333\n",
      "TV-Y         306\n",
      "PG           287\n",
      "TV-G         220\n",
      "NR            79\n",
      "G             41\n",
      "TV-Y7-FV       6\n",
      "NC-17          3\n",
      "UR             3\n",
      "dtype: int64\n",
      "\n",
      "----------------------------------------\n",
      "\n"
     ]
    }
   ],
   "source": [
    "# 4. Group by rating – Age rating distribution\n",
    "print(\"🔞 Titles by age rating:\")\n",
    "print(df.groupby('rating').size().sort_values(ascending=False))\n",
    "print(\"\\n\" + \"-\"*40 + \"\\n\")"
   ]
  },
  {
   "cell_type": "code",
   "execution_count": 34,
   "id": "73b39599-c599-43f1-8ad0-b729be441c82",
   "metadata": {},
   "outputs": [],
   "source": [
    "# Ensure date_added is datetime\n",
    "df['date_added'] = pd.to_datetime(df['date_added'])\n",
    "\n",
    "# Group by year and month, counting titles added each month\n",
    "monthly_trend = (\n",
    "    df.groupby([df['date_added'].dt.year, df['date_added'].dt.month])\n",
    "      .size()  # count titles per group\n",
    "      .sort_index()\n",
    ")\n",
    "\n",
    "# --- Annual Trend ---\n",
    "annual_trend = (\n",
    "    df.groupby(df['date_added'].dt.year)\n",
    "      .size()\n",
    "      .sort_index()\n",
    ")\n",
    "\n",
    "# --- Monthly Trend ---\n",
    "monthly_trend = (\n",
    "    df.groupby([df['date_added'].dt.year, df['date_added'].dt.month])\n",
    "      .size()\n",
    "      .sort_index()\n",
    ")\n",
    "\n",
    "# Convert monthly_trend index to datetime for easier plotting\n",
    "monthly_trend.index = pd.to_datetime(\n",
    "    monthly_trend.index.map(lambda x: f\"{x[0]}-{x[1]:02d}-01\")\n",
    ")\n",
    "\n",
    "# --- Quarterly Trend ---\n",
    "quarterly_trend = (\n",
    "    df.groupby(pd.PeriodIndex(df['date_added'], freq='Q'))\n",
    "      .size()\n",
    "      .sort_index()\n",
    ")"
   ]
  },
  {
   "cell_type": "code",
   "execution_count": 37,
   "id": "f811f7a8-92fc-4e35-a6af-7978649ff0b4",
   "metadata": {},
   "outputs": [
    {
     "data": {
      "image/png": "[encoded data removed]",
      "text/plain": [
       "<Figure size 1200x1600 with 3 Axes>"
      ]
     },
     "metadata": {},
     "output_type": "display_data"
    }
   ],
   "source": [
    "import matplotlib.pyplot as plt\n",
    "\n",
    "# Use a ggplot style\n",
    "plt.style.use('ggplot')\n",
    "\n",
    "# Create subplots\n",
    "fig, axs = plt.subplots(3, 1, figsize=(12, 16))\n",
    "\n",
    "# --- Annual Trend ---\n",
    "annual_trend.plot(kind='bar', ax=axs[0], color='skyblue')\n",
    "axs[0].set_title('Annual Trend of Netflix Titles Added', fontsize=14)\n",
    "axs[0].set_xlabel('Year')\n",
    "axs[0].set_ylabel('Number of Titles')\n",
    "\n",
    "# --- Monthly Trend (Last 12 months) ---\n",
    "monthly_trend.tail(12).plot(kind='bar', ax=axs[1], color='salmon')\n",
    "axs[1].set_title('Monthly Trend (Last 12 Months)', fontsize=14)\n",
    "axs[1].set_xlabel('Year-Month')\n",
    "axs[1].set_ylabel('Number of Titles')\n",
    "axs[1].set_xticklabels(\n",
    "    [f\"{ts.year}-{ts.month:02d}\" for ts in monthly_trend.tail(12).index],\n",
    "    rotation=40,\n",
    "    ha='right'\n",
    ")\n",
    "\n",
    "\n",
    "# --- Quarterly Trend (Last 12 quarters) ---\n",
    "quarterly_trend.tail(12).plot(kind='bar', ax=axs[2], color='mediumseagreen')\n",
    "axs[2].set_title('Quarterly Trend (Last 12 Quarters)', fontsize=14)\n",
    "axs[2].set_xlabel('Quarter')\n",
    "axs[2].set_ylabel('Number of Titles')\n",
    "\n",
    "# Layout adjustments\n",
    "plt.tight_layout()\n",
    "plt.show()\n",
    "\n"
   ]
  },
  {
   "cell_type": "markdown",
   "id": "cea88fcd-369f-4f7c-b230-3fabb5ce7938",
   "metadata": {},
   "source": [
    "# Visualisation \n"
   ]
  },
  {
   "cell_type": "code",
   "execution_count": 38,
   "id": "da3b408c-5c08-4318-afaa-1341580f8dbc",
   "metadata": {},
   "outputs": [
    {
     "name": "stderr",
     "output_type": "stream",
     "text": [
      "C:\\Users\\ameer\\AppData\\Local\\Temp\\ipykernel_17792\\937228905.py:2: FutureWarning: \n",
      "\n",
      "Passing `palette` without assigning `hue` is deprecated and will be removed in v0.14.0. Assign the `x` variable to `hue` and set `legend=False` for the same effect.\n",
      "\n",
      "  sns.countplot(x='type', data=df, palette=\"coolwarm\")\n"
     ]
    },
    {
     "data": {
      "image/png": "[encoded data removed]",
      "text/plain": [
       "<Figure size 640x480 with 1 Axes>"
      ]
     },
     "metadata": {},
     "output_type": "display_data"
    }
   ],
   "source": [
    "#df['type'].value_counts().plot(kind='bar')\n",
    "sns.countplot(x='type', data=df, palette=\"coolwarm\")\n",
    "plt.title('Distribution of Movies vs. TV Shows on Netflix', fontsize=14)\n",
    "plt.xlabel('Type')\n",
    "plt.ylabel('Count')\n",
    "plt.show()"
   ]
  },
  {
   "cell_type": "code",
   "execution_count": null,
   "id": "6b2c78e4-cf32-401a-815c-e801d89a1275",
   "metadata": {},
   "outputs": [],
   "source": [
    "plt.figure(figsize=(10,6))\n",
    "df['count'] = 1\n",
    "df['first_country'] = df['country'].apply(lambda x: x.split(\",\")[0])\n",
    "df['first_country'].head()\n",
    "data = df.groupby('first_country')['count'].sum().sort_values(ascending=False)[:10]\n",
    "sns.barplot(x=data.values, y=data.index, palette=\"magma\")\n",
    "plt.title('Top 10 Countries Producing Netflix Content', fontsize=14)\n",
    "plt.xlabel('Count')\n",
    "plt.ylabel('Country')\n",
    "plt.show()"
   ]
  },
  {
   "cell_type": "code",
   "execution_count": null,
   "id": "c286f3d4-9ee6-4f9c-ae7e-9bebdc577197",
   "metadata": {},
   "outputs": [],
   "source": [
    "df_5 = pd.DataFrame(data=df.groupby('rating').size()).reset_index()\n",
    "df_5 = df_5.loc[~df_5['rating'].isin(['66 min', '74 min', '84 min'])]\n",
    "df_5 = df_5.rename(columns={0: 'Number of content'})\n",
    "\n",
    "fig = px.pie(df_5, values='Number of content', names='rating',\n",
    "             color_discrete_sequence=px.colors.sequential.RdBu, title='Ratings for all content on Netflix')\n",
    "\n",
    "fig.update_traces(textposition='inside', textinfo='percent+label')\n",
    "fig.show()"
   ]
  },
  {
   "cell_type": "code",
   "execution_count": null,
   "id": "38eb2870-29fa-4df5-8bf6-f53f98724417",
   "metadata": {},
   "outputs": [],
   "source": [
    "rating = {  'TV-Y' : 'Kids',\n",
    "            'TV-Y7' : 'Kids' ,\n",
    "            'TV-G'  : 'Kids',\n",
    "            'PG'    : 'Kids',\n",
    "            'TV-PG' : 'Kids',\n",
    "            'PG-13' : 'Teens',\n",
    "            'TV-14' : 'Teens',\n",
    "            'R'     : 'Adults',\n",
    "            'TV-MA' : 'Adults',\n",
    "            'NC-17' : 'Adults',\n",
    "            'NR': 'Adults',\n",
    "            'UR': 'Adults',\n",
    "            'TV-Y7-FV':'Kids',\n",
    "            'G': 'Kids'}\n",
    "\n",
    "#creating a new column with age rating\n",
    "df['Age rating'] = df['rating'].replace(to_replace = rating)\n",
    "df_5 = pd.DataFrame(data=df.groupby('Age rating').size()).reset_index()\n",
    "df_5 = df_5.loc[~df_5['Age rating'].isin(['66 min', '74 min', '84 min'])]\n",
    "df_5 = df_5.rename(columns={0: 'Number of content'})\n",
    "\n",
    "fig = px.pie(df_5, values='Number of content', names='Age rating',\n",
    "             color_discrete_sequence=px.colors.sequential.RdBu, title='Ratings for all content on Netflix')\n",
    "\n",
    "fig.update_traces(textposition='inside', textinfo='percent+label')\n",
    "fig.show()"
   ]
  },
  {
   "cell_type": "code",
   "execution_count": null,
   "id": "e6957aed-9846-4880-82b9-3d50ac461fce",
   "metadata": {},
   "outputs": [],
   "source": [
    "#In Which Month Does Most of The Content Added To Platform?\n",
    "#hypothesis - december\n",
    "plt.figure(figsize=(10,6))\n",
    "ByMonth = df['month_name_added'].value_counts().plot.bar()\n",
    "plt.title('Content realesed by month', fontsize=14)\n",
    "plt.xlabel('')\n",
    "plt.ylabel('Number of releases')\n",
    "plt.show()"
   ]
  },
  {
   "cell_type": "code",
   "execution_count": null,
   "id": "e5d02b00-f5ce-4c8a-968f-2bb552631e54",
   "metadata": {},
   "outputs": [],
   "source": [
    "#How many content is international?\n",
    "plt.figure(figsize=(10,6))\n",
    "content = df[['country']]\n",
    "content['Num_countries'] = content['country'].apply(lambda x: len(x.split(',')))\n",
    "num_countries = content['Num_countries'].value_counts()\n",
    "\n",
    "# Create the bar plot\n",
    "sns.barplot(x=num_countries.index, y=num_countries.values, palette=\"magma\")\n",
    "\n",
    "# Add data labels on top of each bar\n",
    "for index, value in enumerate(num_countries.values):\n",
    "    plt.text(index, value, str(value), ha='center', va='bottom')  # ha='center' centers the text\n",
    "\n",
    "plt.title('Number of Countries per Content', fontsize=14)\n",
    "plt.ylabel('Number of content')\n",
    "plt.xlabel('')\n",
    "plt.show()"
   ]
  },
  {
   "cell_type": "code",
   "execution_count": null,
   "id": "a478db63-62f4-41dc-8a8a-a520754c4435",
   "metadata": {},
   "outputs": [],
   "source": [
    "#create graph\n",
    "movies = df.loc[(df.type=='Movie')]\n",
    "x = movies['duration'].str.extract('(\\d+)').astype(int)\n",
    "sns.kdeplot(x)\n",
    "\n",
    "# Add labels and title\n",
    "plt.xlabel('Duration (minutes)')\n",
    "plt.ylabel('Density')\n",
    "plt.title('KDE Plot of Movie Durations')\n",
    "plt.show()\n"
   ]
  },
  {
   "cell_type": "code",
   "execution_count": null,
   "id": "e472e9eb-5f6e-45c2-adb7-065d938fd1a5",
   "metadata": {},
   "outputs": [],
   "source": [
    "data_dict1 = {'year_added': df.groupby('year_added').size().index,\n",
    "             'n_content': df.groupby('year_added').size().values}\n",
    "\n",
    "df_1 = pd.DataFrame(data=data_dict1, columns=['year_added', 'n_content'])\n",
    "\n",
    "fig = px.line(df_1, x=\"year_added\", y=\"n_content\",\n",
    "              title='Dynamics of adding content to Netflix by all countries',\n",
    "              markers=True)\n",
    "\n",
    "fig.update_layout(xaxis_title=\"Year\",\n",
    "                  yaxis_title=\"Number of content\")\n",
    "\n",
    "fig.show()"
   ]
  },
  {
   "cell_type": "code",
   "execution_count": null,
   "id": "80b32a7e-eab3-483d-8fa7-b815862b35fd",
   "metadata": {},
   "outputs": [],
   "source": [
    "df_tv_show = df.loc[df['type'] == 'TV Show']\n",
    "df_tv_show['duration'] = df_tv_show['duration'].str.replace(' Seasons', ' Season')\n",
    "df_tv_show['duration'] = df_tv_show['duration'].str.replace(' Season', ' Season(s)')\n",
    "\n",
    "\n",
    "df_2 = pd.DataFrame(data=df_tv_show.groupby('duration').size().reset_index())\n",
    "df_2.rename(columns={0: 'Number of TV Show'}, inplace=True)\n",
    "\n",
    "fig = px.pie(df_2, values='Number of TV Show', names='duration',\n",
    "             color_discrete_sequence=px.colors.sequential.RdBu, title='TV shows duration in Netflix')\n",
    "\n",
    "fig.update_traces(textposition='inside', textinfo='percent+label')\n",
    "fig.show()"
   ]
  },
  {
   "cell_type": "code",
   "execution_count": null,
   "id": "60a43703-2483-4b1a-9221-1198623d69f9",
   "metadata": {},
   "outputs": [],
   "source": [
    "# Count the occurrences of each unique entry in the 'listed_in' column\n",
    "genre_counts = df['listed_in'].value_counts()\n",
    "\n",
    "# Display the genre counts\n",
    "print(\"Genre Counts:\")\n",
    "print(genre_counts)"
   ]
  },
  {
   "cell_type": "code",
   "execution_count": null,
   "id": "d3711e47-1f24-4837-8c44-8726d7bfbf81",
   "metadata": {},
   "outputs": [],
   "source": [
    "df['genres'] = df['listed_in'].str.extract('([A-Z]\\w{2,})', expand=True)\n",
    "genre_counts_movie = df['genres'].value_counts().reset_index()\n",
    "genre_counts_movie.columns = ['genre', 'count']\n",
    "plt.figure(figsize=(10, 6))\n",
    "plt.bar(genre_counts_movie['genre'], genre_counts_movie['count'], color='skyblue')\n",
    "plt.xlabel('Genres')\n",
    "plt.ylabel('Count')\n",
    "plt.title('Count of Content Genres')\n",
    "plt.xticks(rotation=90)\n",
    "plt.show()"
   ]
  },
  {
   "cell_type": "code",
   "execution_count": null,
   "id": "e47a4d47-981b-47c5-92c1-0c55fd2ee144",
   "metadata": {},
   "outputs": [],
   "source": [
    "top_directors = df.groupby('director')['show_id'].count().sort_values(ascending=False)\n",
    "#top_directors = top_directors[directors['director'] != 'No Data']\n",
    "top_directors = top_directors.drop('No Data')\n",
    "top_directors = top_directors.head(10)\n",
    "sns.barplot(x=top_directors.values, y=top_directors.index, palette='rocket')\n",
    "plt.title('Top 10 Directors Producing Netflix Content', fontsize=14)\n",
    "plt.xlabel('Count')\n",
    "plt.ylabel('')\n",
    "plt.show()"
   ]
  },
  {
   "cell_type": "code",
   "execution_count": null,
   "id": "a02a8d31-06ec-4804-92c6-be66db337bbd",
   "metadata": {},
   "outputs": [],
   "source": []
  }
 ],
 "metadata": {
  "kernelspec": {
   "display_name": "Python [conda env:base] *",
   "language": "python",
   "name": "conda-base-py"
  },
  "language_info": {
   "codemirror_mode": {
    "name": "ipython",
    "version": 3
   },
   "file_extension": ".py",
   "mimetype": "text/x-python",
   "name": "python",
   "nbconvert_exporter": "python",
   "pygments_lexer": "ipython3",
   "version": "3.12.7"
  }
 },
 "nbformat": 4,
 "nbformat_minor": 5
}
